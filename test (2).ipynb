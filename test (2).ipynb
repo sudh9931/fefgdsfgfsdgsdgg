{
 "cells": [
  {
   "cell_type": "code",
   "execution_count": 5,
   "id": "bea24006-42b6-431d-8320-b1c2dded3c7d",
   "metadata": {},
   "outputs": [
    {
     "data": {
      "text/plain": [
       "3"
      ]
     },
     "execution_count": 5,
     "metadata": {},
     "output_type": "execute_result"
    }
   ],
   "source": [
    "1+2"
   ]
  },
  {
   "cell_type": "raw",
   "id": "6bbb0573-a221-4733-be16-3f12cf928d21",
   "metadata": {},
   "source": [
    "dfasdja lkflka lfkas lkalkfas lkfas lfalk faljflskfdka lfk "
   ]
  },
  {
   "cell_type": "raw",
   "id": "ae4adb47-a9f0-4c59-9071-cf01994c3358",
   "metadata": {},
   "source": []
  }
 ],
 "metadata": {
  "kernelspec": {
   "display_name": "Python 3 (ipykernel)",
   "language": "python",
   "name": "python3"
  },
  "language_info": {
   "codemirror_mode": {
    "name": "ipython",
    "version": 3
   },
   "file_extension": ".py",
   "mimetype": "text/x-python",
   "name": "python",
   "nbconvert_exporter": "python",
   "pygments_lexer": "ipython3",
   "version": "3.10.8"
  }
 },
 "nbformat": 4,
 "nbformat_minor": 5
}
